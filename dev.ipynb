{
 "cells": [
  {
   "cell_type": "code",
   "execution_count": 13,
   "metadata": {},
   "outputs": [],
   "source": [
    "import re\n"
   ]
  },
  {
   "cell_type": "code",
   "execution_count": 33,
   "metadata": {},
   "outputs": [
    {
     "data": {
      "text/plain": [
       "'([0-9]+)\\\\.([0-9]+)\\\\.([0-9]+)\\\\.([0-9]+)'"
      ]
     },
     "execution_count": 33,
     "metadata": {},
     "output_type": "execute_result"
    }
   ],
   "source": [
    "'\\.'.join(('([0-9]+)',)*4)"
   ]
  },
  {
   "cell_type": "code",
   "execution_count": 42,
   "metadata": {},
   "outputs": [
    {
     "ename": "IndexError",
     "evalue": "list index out of range",
     "output_type": "error",
     "traceback": [
      "\u001b[1;31m---------------------------------------------------------------------------\u001b[0m",
      "\u001b[1;31mIndexError\u001b[0m                                Traceback (most recent call last)",
      "\u001b[1;32m<ipython-input-42-0fb95ea9d943>\u001b[0m in \u001b[0;36m<module>\u001b[1;34m\u001b[0m\n\u001b[1;32m----> 1\u001b[1;33m \u001b[0mre\u001b[0m\u001b[1;33m.\u001b[0m\u001b[0mfindall\u001b[0m\u001b[1;33m(\u001b[0m\u001b[1;34m'^'\u001b[0m\u001b[1;33m+\u001b[0m\u001b[1;34m'\\.'\u001b[0m\u001b[1;33m.\u001b[0m\u001b[0mjoin\u001b[0m\u001b[1;33m(\u001b[0m\u001b[1;33m(\u001b[0m\u001b[1;34m'([0-9]+)'\u001b[0m\u001b[1;33m,\u001b[0m\u001b[1;33m)\u001b[0m\u001b[1;33m*\u001b[0m\u001b[1;36m4\u001b[0m\u001b[1;33m)\u001b[0m\u001b[1;33m+\u001b[0m\u001b[1;34m'$'\u001b[0m\u001b[1;33m,\u001b[0m \u001b[1;34m'1.12.255.36.6'\u001b[0m\u001b[1;33m)\u001b[0m\u001b[1;33m[\u001b[0m\u001b[1;36m0\u001b[0m\u001b[1;33m]\u001b[0m\u001b[1;33m\u001b[0m\u001b[1;33m\u001b[0m\u001b[0m\n\u001b[0m",
      "\u001b[1;31mIndexError\u001b[0m: list index out of range"
     ]
    }
   ],
   "source": [
    "re.findall('^'+'\\.'.join(('([0-9]+)',)*4)+'$', '1.12.255.36.6')"
   ]
  },
  {
   "cell_type": "code",
   "execution_count": 44,
   "metadata": {},
   "outputs": [],
   "source": [
    "    pattern = '\\.'.join(('([0-9]+)',)*4)\n",
    "    pattern = ''.join(('^', pattern, '$'))"
   ]
  },
  {
   "cell_type": "code",
   "execution_count": 1,
   "metadata": {},
   "outputs": [],
   "source": [
    "import plotly.express as px\n",
    "\n",
    "%config Completer.use_jedi = False\n",
    "\n",
    "%load_ext autoreload\n",
    "%autoreload 2\n",
    "import types\n",
    "import table as xlr\n",
    "from table import MappedSequence, MappedTable\n",
    "import sqlite_wrap as sql\n",
    "from table.utils import is_scalar\n",
    "from table.ordered_set import OrderedSet\n",
    "\n",
    "import pandas as pd\n",
    "from pprint import PrettyPrinter\n",
    "pp = PrettyPrinter()"
   ]
  },
  {
   "cell_type": "code",
   "execution_count": 2,
   "metadata": {},
   "outputs": [],
   "source": [
    "from statistics import mean, stdev"
   ]
  },
  {
   "cell_type": "code",
   "execution_count": 3,
   "metadata": {},
   "outputs": [],
   "source": [
    "table = xlr.read_excel('./experiment.xlsx', skiprows=0)"
   ]
  },
  {
   "cell_type": "code",
   "execution_count": 4,
   "metadata": {},
   "outputs": [
    {
     "data": {
      "text/plain": [
       "0\t96.87606524104423\n",
       "1\t87.30133583529451\n",
       "2\t97.69131206443264\n",
       "3\t102.9781523723607\n",
       "4\t87.10699272862476\n",
       "...\t...\n",
       "95\t108.1569641420406\n",
       "96\t91.73999230125185\n",
       "97\t95.41034685726757\n",
       "98\t106.3624059256788\n",
       "99\t94.2692372873789\n",
       "Name: experiment_1, Length: 100"
      ]
     },
     "execution_count": 4,
     "metadata": {},
     "output_type": "execute_result"
    }
   ],
   "source": [
    "table['experiment_1']"
   ]
  },
  {
   "cell_type": "code",
   "execution_count": 12,
   "metadata": {
    "scrolled": true
   },
   "outputs": [
    {
     "data": {
      "text/html": [
       "<div><table>                <thead>                        <td><b></b></td>\n",
       "<td><b>gender</b></td>\n",
       "<td><b>treatment</b></td>\n",
       "<td><b>control</b></td>                </thead>                <tbody>                        <tr><td><b>0</b></td>\n",
       "<td>male</td>\n",
       "<td>101.12976</td>\n",
       "<td>100.19302</td></tr>\n",
       "<tr><td><b>1</b></td>\n",
       "<td>female</td>\n",
       "<td>102.88516</td>\n",
       "<td>100.98630</td></tr>                </tbody>            </table></div>"
      ],
      "text/plain": [
       "None: (0\tmale\n",
       "1\tfemale\n",
       "Name: gender, Length: 2, 0\t101.1297588346035\n",
       "1\t102.8851561472873\n",
       "Name: treatment, Length: 2, 0\t100.19301793750375\n",
       "1\t100.98629772280077\n",
       "Name: control, Length: 2)"
      ]
     },
     "execution_count": 12,
     "metadata": {},
     "output_type": "execute_result"
    }
   ],
   "source": [
    "table.pivot('gender', 'group', 'experiment_1')"
   ]
  },
  {
   "cell_type": "code",
   "execution_count": 6,
   "metadata": {},
   "outputs": [
    {
     "data": {
      "text/plain": [
       "('male', 'female')"
      ]
     },
     "execution_count": 6,
     "metadata": {},
     "output_type": "execute_result"
    }
   ],
   "source": [
    "table.gender.unique()"
   ]
  },
  {
   "cell_type": "code",
   "execution_count": null,
   "metadata": {},
   "outputs": [],
   "source": [
    "stdev(table.where(gender='male', group='control').experiment_1)"
   ]
  },
  {
   "cell_type": "code",
   "execution_count": 11,
   "metadata": {},
   "outputs": [
    {
     "data": {
      "text/html": [
       "<div><table>                <thead>                        <td><b></b></td>\n",
       "<td><b>experiment_1</b></td>\n",
       "<td><b>experiment_2</b></td>\n",
       "<td><b>experiment_3</b></td>\n",
       "<td><b>gender</b></td>\n",
       "<td><b>group</b></td>                </thead>                <tbody>                        <tr><td><b>0</b></td>\n",
       "<td>96.87607</td>\n",
       "<td>93.41794</td>\n",
       "<td>73.03319</td>\n",
       "<td>male</td>\n",
       "<td>control</td></tr>\n",
       "<tr><td><b>2</b></td>\n",
       "<td>97.69131</td>\n",
       "<td>106.18792</td>\n",
       "<td>103.42271</td>\n",
       "<td>male</td>\n",
       "<td>treatment</td></tr>\n",
       "<tr><td><b>4</b></td>\n",
       "<td>87.10699</td>\n",
       "<td>107.01999</td>\n",
       "<td>72.14029</td>\n",
       "<td>male</td>\n",
       "<td>control</td></tr>\n",
       "<tr><td><b>6</b></td>\n",
       "<td>101.96790</td>\n",
       "<td>95.08892</td>\n",
       "<td>111.81685</td>\n",
       "<td>male</td>\n",
       "<td>treatment</td></tr>\n",
       "<tr><td><b>8</b></td>\n",
       "<td>115.41235</td>\n",
       "<td>105.13794</td>\n",
       "<td>96.28040</td>\n",
       "<td>male</td>\n",
       "<td>control</td></tr>\n",
       "<tr><td>...</td>\n",
       "<td>...</td>\n",
       "<td>...</td>\n",
       "<td>...</td>\n",
       "<td>...</td>\n",
       "<td>...</td></tr>\n",
       "<tr><td><b>90</b></td>\n",
       "<td>100.17749</td>\n",
       "<td>104.67370</td>\n",
       "<td>73.25100</td>\n",
       "<td>male</td>\n",
       "<td>treatment</td></tr>\n",
       "<tr><td><b>92</b></td>\n",
       "<td>101.32053</td>\n",
       "<td>105.71129</td>\n",
       "<td>73.73084</td>\n",
       "<td>male</td>\n",
       "<td>control</td></tr>\n",
       "<tr><td><b>94</b></td>\n",
       "<td>102.77063</td>\n",
       "<td>129.00227</td>\n",
       "<td>52.11112</td>\n",
       "<td>male</td>\n",
       "<td>treatment</td></tr>\n",
       "<tr><td><b>96</b></td>\n",
       "<td>91.73999</td>\n",
       "<td>111.12538</td>\n",
       "<td>64.26099</td>\n",
       "<td>male</td>\n",
       "<td>control</td></tr>\n",
       "<tr><td><b>98</b></td>\n",
       "<td>106.36241</td>\n",
       "<td>115.52238</td>\n",
       "<td>123.46969</td>\n",
       "<td>male</td>\n",
       "<td>treatment</td></tr>                </tbody>            </table></div>"
      ],
      "text/plain": [
       "None: (0\t96.87606524104423\n",
       "2\t97.69131206443264\n",
       "4\t87.10699272862476\n",
       "6\t101.9678961067528\n",
       "8\t115.4123543992809\n",
       "...\t...\n",
       "90\t100.1774926979853\n",
       "92\t101.3205252320304\n",
       "94\t102.7706253993933\n",
       "96\t91.73999230125185\n",
       "98\t106.3624059256788\n",
       "Name: experiment_1, Length: 50, 0\t93.41794186205836\n",
       "2\t106.1879158374786\n",
       "4\t107.0199854796267\n",
       "6\t95.08891880671696\n",
       "8\t105.137937625817\n",
       "...\t...\n",
       "90\t104.6737003474494\n",
       "92\t105.7112908393863\n",
       "94\t129.0022736782971\n",
       "96\t111.1253771258949\n",
       "98\t115.5223822770017\n",
       "Name: experiment_2, Length: 50, 0\t73.03319261806172\n",
       "2\t103.4227094529888\n",
       "4\t72.14029211350231\n",
       "6\t111.8168521663685\n",
       "8\t96.28039576038485\n",
       "...\t...\n",
       "90\t73.25099641056535\n",
       "92\t73.73084439286062\n",
       "94\t52.11112167838937\n",
       "96\t64.26099304241377\n",
       "98\t123.4696885425277\n",
       "Name: experiment_3, Length: 50, 0\tmale\n",
       "2\tmale\n",
       "4\tmale\n",
       "6\tmale\n",
       "8\tmale\n",
       "...\t...\n",
       "90\tmale\n",
       "92\tmale\n",
       "94\tmale\n",
       "96\tmale\n",
       "98\tmale\n",
       "Name: gender, Length: 50, 0\tcontrol\n",
       "2\ttreatment\n",
       "4\tcontrol\n",
       "6\ttreatment\n",
       "8\tcontrol\n",
       "...\t...\n",
       "90\ttreatment\n",
       "92\tcontrol\n",
       "94\ttreatment\n",
       "96\tcontrol\n",
       "98\ttreatment\n",
       "Name: group, Length: 50)"
      ]
     },
     "execution_count": 11,
     "metadata": {},
     "output_type": "execute_result"
    }
   ],
   "source": [
    "table[table.gender.where('male'),:]"
   ]
  },
  {
   "cell_type": "code",
   "execution_count": null,
   "metadata": {},
   "outputs": [],
   "source": [
    "table[['group', 'gender']].unique()"
   ]
  },
  {
   "cell_type": "code",
   "execution_count": null,
   "metadata": {},
   "outputs": [],
   "source": [
    "table[table.gender.where('male'), :]"
   ]
  },
  {
   "cell_type": "code",
   "execution_count": null,
   "metadata": {},
   "outputs": [],
   "source": [
    "dict(zip(['group', 'gender'], ['control', 'female']))"
   ]
  },
  {
   "cell_type": "code",
   "execution_count": null,
   "metadata": {},
   "outputs": [],
   "source": [
    "table.group.unique()"
   ]
  },
  {
   "cell_type": "code",
   "execution_count": null,
   "metadata": {},
   "outputs": [],
   "source": [
    "table.where()"
   ]
  },
  {
   "cell_type": "code",
   "execution_count": null,
   "metadata": {},
   "outputs": [],
   "source": [
    "table[table.group.where('control'), :]"
   ]
  },
  {
   "cell_type": "code",
   "execution_count": null,
   "metadata": {},
   "outputs": [],
   "source": []
  },
  {
   "cell_type": "code",
   "execution_count": null,
   "metadata": {},
   "outputs": [],
   "source": [
    "table[table.group.where('control'), :]"
   ]
  },
  {
   "cell_type": "code",
   "execution_count": null,
   "metadata": {},
   "outputs": [],
   "source": []
  },
  {
   "cell_type": "code",
   "execution_count": null,
   "metadata": {},
   "outputs": [],
   "source": [
    "db = sql.DataModel()"
   ]
  },
  {
   "cell_type": "code",
   "execution_count": null,
   "metadata": {},
   "outputs": [],
   "source": [
    "columns = ['sepal length (cm)',\n",
    " 'sepal width (cm)',\n",
    " 'petal length (cm)',\n",
    " 'petal width (cm)']\n",
    "dtypes = [float for value in columns]"
   ]
  },
  {
   "cell_type": "code",
   "execution_count": null,
   "metadata": {},
   "outputs": [],
   "source": [
    "db.create_table('iris', columns, dtypes)"
   ]
  }
 ],
 "metadata": {
  "hide_input": false,
  "kernelspec": {
   "display_name": "Python 3",
   "language": "python",
   "name": "python3"
  },
  "language_info": {
   "codemirror_mode": {
    "name": "ipython",
    "version": 3
   },
   "file_extension": ".py",
   "mimetype": "text/x-python",
   "name": "python",
   "nbconvert_exporter": "python",
   "pygments_lexer": "ipython3",
   "version": "3.8.5"
  },
  "toc": {
   "base_numbering": 1,
   "nav_menu": {},
   "number_sections": true,
   "sideBar": true,
   "skip_h1_title": false,
   "title_cell": "Table of Contents",
   "title_sidebar": "Contents",
   "toc_cell": false,
   "toc_position": {},
   "toc_section_display": true,
   "toc_window_display": false
  }
 },
 "nbformat": 4,
 "nbformat_minor": 4
}
